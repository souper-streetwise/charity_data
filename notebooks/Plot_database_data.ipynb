{
 "cells": [
  {
   "cell_type": "code",
   "execution_count": 1,
   "metadata": {},
   "outputs": [],
   "source": [
    "import sqlite3\n",
    "import matplotlib.pyplot as plt\n",
    "import pandas as pd\n",
    "import seaborn as sns\n",
    "import numpy as np\n",
    "import calmap"
   ]
  },
  {
   "cell_type": "code",
   "execution_count": 2,
   "metadata": {},
   "outputs": [],
   "source": [
    "conn = sqlite3.connect('/Users/Charlotte/Documents/Code/Bristol_homeless_hackathon/web_app/charity_app/db.sqlite3')\n",
    "cur = conn.cursor()\n",
    "\n",
    "# get the day of the week (Sunday = 0) and the hour of the day that the items were given out for a particular charity\n",
    "charity_name = \"Soup Run Trust\"\n",
    "\n",
    "cur.execute('''SELECT strftime('%w',time) AS Day, strftime('%H',time) AS Hour, COUNT(1) AS Count\n",
    "    FROM record_record\n",
    "    WHERE charity = ?\n",
    "    GROUP BY Day, Hour\n",
    "    ''', (charity_name,))\n",
    "\n",
    "# put the hours and days into lists - use pandas dataframe?\n",
    "days = []\n",
    "hours = []\n",
    "count = []\n",
    "rows = cur.fetchall()\n",
    "for row in rows:\n",
    "    days.append(int(row[0]))\n",
    "    hours.append(int(row[1]))\n",
    "    count.append(int(row[2]))\n",
    "    \n",
    "cur.close()\n",
    "conn.close()"
   ]
  },
  {
   "cell_type": "code",
   "execution_count": 3,
   "metadata": {},
   "outputs": [
    {
     "data": {
      "image/png": "[encoded data removed]",
      "text/plain": [
       "<Figure size 432x288 with 1 Axes>"
      ]
     },
     "metadata": {
      "needs_background": "light"
     },
     "output_type": "display_data"
    }
   ],
   "source": [
    "plt.scatter(days, hours, s = [i*100 for i in count], c=\"red\", alpha=0.4)\n",
    "plt.ylabel(\"Hour of day\")\n",
    "plt.xlabel(\"Day of week\")\n",
    "plt.xticks([1, 2, 3, 4, 5, 6, 7], [\"Mon\", \"Tue\", \"Wed\", \"Thu\", \"Fri\", \"Sat\", \"Sun\"])\n",
    "plt.ylim(bottom =24, top = 0)\n",
    "plt.show()"
   ]
  },
  {
   "cell_type": "code",
   "execution_count": 4,
   "metadata": {},
   "outputs": [
    {
     "name": "stdout",
     "output_type": "stream",
     "text": [
      "   Day  Hour  Count\n",
      "0    1    13      4\n",
      "1    1    16      5\n",
      "2    1    17      5\n",
      "3    3    20     14\n",
      "4    3    21      9\n"
     ]
    },
    {
     "data": {
      "text/plain": [
       "Day      int64\n",
       "Hour     int64\n",
       "Count    int64\n",
       "dtype: object"
      ]
     },
     "execution_count": 4,
     "metadata": {},
     "output_type": "execute_result"
    }
   ],
   "source": [
    "conn = sqlite3.connect('/Users/Charlotte/Documents/Code/Bristol_homeless_hackathon/web_app/charity_app/db.sqlite3')\n",
    "charity_name = \"Soup Run Trust\"\n",
    "query = '''SELECT strftime('%w',time) AS Day, strftime('%H',time) AS Hour, COUNT(1) AS Count\n",
    "    FROM record_record\n",
    "    WHERE charity = (?)\n",
    "    GROUP BY Day, Hour\n",
    "    '''\n",
    "\n",
    "df = pd.read_sql_query(query, conn, params=(charity_name,))\n",
    "df[[\"Day\", \"Hour\"]] = df[[\"Day\", \"Hour\"]].astype(int)\n",
    "\n",
    "print(df.head())\n",
    "df.dtypes"
   ]
  },
  {
   "cell_type": "code",
   "execution_count": 5,
   "metadata": {},
   "outputs": [
    {
     "data": {
      "image/png": "[encoded data removed]",
      "text/plain": [
       "<Figure size 432x288 with 1 Axes>"
      ]
     },
     "metadata": {
      "needs_background": "light"
     },
     "output_type": "display_data"
    }
   ],
   "source": [
    "sns.scatterplot(x=\"Day\", y=\"Hour\", size=\"Count\", data=df, sizes=(0, 1000), legend=False)\n",
    "plt.ylabel(\"Hour of day\")\n",
    "plt.xlabel(\"Day of week\")\n",
    "plt.xticks([1, 2, 3, 4, 5, 6, 7], [\"Mon\", \"Tue\", \"Wed\", \"Thu\", \"Fri\", \"Sat\", \"Sun\"])\n",
    "plt.ylim(bottom =24, top =0)\n",
    "plt.show()"
   ]
  },
  {
   "cell_type": "code",
   "execution_count": 121,
   "metadata": {},
   "outputs": [
    {
     "data": {
      "text/html": [
       "<div>\n",
       "<style scoped>\n",
       "    .dataframe tbody tr th:only-of-type {\n",
       "        vertical-align: middle;\n",
       "    }\n",
       "\n",
       "    .dataframe tbody tr th {\n",
       "        vertical-align: top;\n",
       "    }\n",
       "\n",
       "    .dataframe thead th {\n",
       "        text-align: right;\n",
       "    }\n",
       "</style>\n",
       "<table border=\"1\" class=\"dataframe\">\n",
       "  <thead>\n",
       "    <tr style=\"text-align: right;\">\n",
       "      <th></th>\n",
       "      <th>Date</th>\n",
       "      <th>Count</th>\n",
       "    </tr>\n",
       "  </thead>\n",
       "  <tbody>\n",
       "    <tr>\n",
       "      <th>0</th>\n",
       "      <td>2020-02-05</td>\n",
       "      <td>23</td>\n",
       "    </tr>\n",
       "    <tr>\n",
       "      <th>1</th>\n",
       "      <td>2020-02-13</td>\n",
       "      <td>2</td>\n",
       "    </tr>\n",
       "    <tr>\n",
       "      <th>2</th>\n",
       "      <td>2020-02-20</td>\n",
       "      <td>1</td>\n",
       "    </tr>\n",
       "    <tr>\n",
       "      <th>3</th>\n",
       "      <td>2020-02-24</td>\n",
       "      <td>4</td>\n",
       "    </tr>\n",
       "  </tbody>\n",
       "</table>\n",
       "</div>"
      ],
      "text/plain": [
       "         Date  Count\n",
       "0  2020-02-05     23\n",
       "1  2020-02-13      2\n",
       "2  2020-02-20      1\n",
       "3  2020-02-24      4"
      ]
     },
     "execution_count": 121,
     "metadata": {},
     "output_type": "execute_result"
    }
   ],
   "source": [
    "conn = sqlite3.connect('/Users/Charlotte/Documents/Code/Bristol_homeless_hackathon/web_app/charity_app/db.sqlite3')\n",
    "charity_name = \"Soup Run Trust\"\n",
    "query = '''SELECT strftime('%Y-%m-%d', time) AS Date, COUNT(1) AS Count\n",
    "    FROM record_record\n",
    "    WHERE charity = (?)\n",
    "    GROUP BY Date\n",
    "    '''\n",
    "\n",
    "df = pd.read_sql_query(query, conn, params=(charity_name,))\n",
    "df.head()\n",
    "#df.dtypes\n",
    "df[\"Date\"] = df[\"Date\"].astype(numpy)\n",
    "\n",
    "# print(df.head())\n",
    "\n",
    "# sns.scatterplot(x=\"Month\", y=\"Day\", size=\"Count\", data=df, sizes=(0, 1000), legend=False)\n",
    "# # plt.ylabel(\"Hour of day\")\n",
    "# # plt.xlabel(\"Day of week\")\n",
    "# plt.xticks(np.arange(1, 13, 1), [\"Jan\", \"Feb\", \"Mar\", \"Apr\", \"May\"])\n",
    "# # plt.ylim(bottom =24, top =0)\n",
    "# plt.show()"
   ]
  },
  {
   "cell_type": "code",
   "execution_count": 6,
   "metadata": {},
   "outputs": [
    {
     "name": "stdout",
     "output_type": "stream",
     "text": [
      "<class 'numpy.datetime64'>\n"
     ]
    },
    {
     "data": {
      "text/plain": [
       "<matplotlib.axes._subplots.AxesSubplot at 0x11dbf1da0>"
      ]
     },
     "execution_count": 6,
     "metadata": {},
     "output_type": "execute_result"
    },
    {
     "data": {
      "image/png": "[encoded data removed]",
      "text/plain": [
       "<Figure size 432x288 with 1 Axes>"
      ]
     },
     "metadata": {
      "needs_background": "light"
     },
     "output_type": "display_data"
    }
   ],
   "source": [
    "all_days = pd.date_range('1/15/2014', periods=700, freq='D')\n",
    "days = np.random.choice(all_days, 500)\n",
    "print(type(days[0]))\n",
    "events = pd.Series(np.random.randn(len(days)), index=days)\n",
    "\n",
    "events.dtypes\n",
    "#events.head()\n",
    "\n",
    "calmap.yearplot(events, year=2015)"
   ]
  },
  {
   "cell_type": "code",
   "execution_count": null,
   "metadata": {},
   "outputs": [],
   "source": []
  }
 ],
 "metadata": {
  "kernelspec": {
   "display_name": "Python 3",
   "language": "python",
   "name": "python3"
  },
  "language_info": {
   "codemirror_mode": {
    "name": "ipython",
    "version": 3
   },
   "file_extension": ".py",
   "mimetype": "text/x-python",
   "name": "python",
   "nbconvert_exporter": "python",
   "pygments_lexer": "ipython3",
   "version": "3.5.6"
  }
 },
 "nbformat": 4,
 "nbformat_minor": 2
}
